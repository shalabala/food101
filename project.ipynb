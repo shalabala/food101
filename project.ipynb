{
 "cells": [
  {
   "cell_type": "code",
   "execution_count": 1,
   "metadata": {},
   "outputs": [],
   "source": [
    "from food_dataset import FoodDataset\n",
    "from food_model import FoodModel\n",
    "from train_settings import TrainSettings\n",
    "from training_loop import TrainingLoop\n",
    "import constants\n",
    "from matplotlib import pyplot as plt\n",
    "\n",
    "path=constants.dataset_root\n",
    "\n",
    "dt_train = FoodDataset(path,\n",
    "                       constants.min_class_names,\n",
    "                       constants.min_class_labels,\n",
    "                       0,\n",
    "                       800,\n",
    "                       constants.transform)\n",
    "\n",
    "dt_val = FoodDataset(path,\n",
    "                     constants.min_class_names,\n",
    "                     constants.min_class_labels,\n",
    "                     800,\n",
    "                     100,\n",
    "                     constants.transform)\n",
    "\n",
    "dt_test = FoodDataset(path,\n",
    "                      constants.min_class_names,\n",
    "                      constants.min_class_labels,\n",
    "                      900,\n",
    "                      100,\n",
    "                      constants.transform)"
   ]
  },
  {
   "cell_type": "code",
   "execution_count": 2,
   "metadata": {},
   "outputs": [
    {
     "data": {
      "text/plain": [
       "68667402"
      ]
     },
     "execution_count": 2,
     "metadata": {},
     "output_type": "execute_result"
    }
   ],
   "source": [
    "model = FoodModel(10)\n",
    "sum(p.numel() for p in model.parameters() if p.requires_grad)"
   ]
  },
  {
   "cell_type": "code",
   "execution_count": null,
   "metadata": {},
   "outputs": [],
   "source": [
    "\n",
    "\n",
    "settings = TrainSettings(\"trying_out\",\n",
    "                         model,\n",
    "                         dt_train,\n",
    "                         dt_val,\n",
    "                         device=\"cpu\",\n",
    "                         lr=0.001,\n",
    "                         epochs=10,\n",
    "                         save_after_epoch=10,\n",
    "                         eval_after_epoch=1,\n",
    "                         save_path=constants.save_path_drive,\n",
    "                         print_steps=True,\n",
    "                         batch_size=512)\n",
    "\n",
    "training = TrainingLoop(settings)\n",
    "\n",
    "training.train()"
   ]
  },
  {
   "cell_type": "code",
   "execution_count": null,
   "metadata": {},
   "outputs": [
    {
     "data": {
      "text/plain": [
       "(8000, 2000, 1000)"
      ]
     },
     "execution_count": 4,
     "metadata": {},
     "output_type": "execute_result"
    }
   ],
   "source": [
    "def show_image(image, label):\n",
    "    plt.figure()\n",
    "    plt.imshow(image.permute(1, 2, 0))\n",
    "    plt.title(f\"Label: {label}\")\n",
    "    \n",
    "show_image(dt_train[799][0],dt_train.get_class_label(dt_train[799][1]))\n",
    "show_image(dt_val[0][0],dt_val.get_class_label(dt_val[0][1]))"
   ]
  },
  {
   "cell_type": "code",
   "execution_count": null,
   "metadata": {},
   "outputs": [
    {
     "data": {
      "text/plain": [
       "(100, 150, 320)"
      ]
     },
     "execution_count": 4,
     "metadata": {},
     "output_type": "execute_result"
    }
   ],
   "source": [
    "len(dt_train), len(dt_val), len(dt_test)"
   ]
  },
  {
   "cell_type": "code",
   "execution_count": null,
   "metadata": {},
   "outputs": [
    {
     "data": {
      "text/plain": [
       "271048714"
      ]
     },
     "execution_count": 3,
     "metadata": {},
     "output_type": "execute_result"
    }
   ],
   "source": [
    "sum([s.numel() for s in model.parameters()])"
   ]
  }
 ],
 "metadata": {
  "kernelspec": {
   "display_name": "myenv",
   "language": "python",
   "name": "python3"
  },
  "language_info": {
   "codemirror_mode": {
    "name": "ipython",
    "version": 3
   },
   "file_extension": ".py",
   "mimetype": "text/x-python",
   "name": "python",
   "nbconvert_exporter": "python",
   "pygments_lexer": "ipython3",
   "version": "3.10.15"
  }
 },
 "nbformat": 4,
 "nbformat_minor": 2
}
