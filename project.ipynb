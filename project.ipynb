{
 "cells": [
  {
   "cell_type": "code",
   "execution_count": 1,
   "metadata": {},
   "outputs": [],
   "source": [
    "from food_dataset import FoodDataset\n",
    "from food_model import FoodModel\n",
    "from train_settings import TrainSettings\n",
    "from training_loop import TrainingLoop\n",
    "import constants\n",
    "from matplotlib import pyplot as plt\n",
    "\n",
    "path=constants.dataset_root\n",
    "\n",
    "dt_train = FoodDataset(path,\n",
    "                       constants.min_class_names,\n",
    "                       constants.min_class_labels,\n",
    "                       0,\n",
    "                       800,\n",
    "                       constants.transform)\n",
    "\n",
    "dt_val = FoodDataset(path,\n",
    "                     constants.min_class_names,\n",
    "                     constants.min_class_labels,\n",
    "                     800,\n",
    "                     100,\n",
    "                     constants.transform)\n",
    "\n",
    "dt_test = FoodDataset(path,\n",
    "                      constants.min_class_names,\n",
    "                      constants.min_class_labels,\n",
    "                      900,\n",
    "                      100,\n",
    "                      constants.transform)"
   ]
  },
  {
   "cell_type": "code",
   "execution_count": 2,
   "metadata": {},
   "outputs": [
    {
     "data": {
      "text/plain": [
       "68667402"
      ]
     },
     "execution_count": 2,
     "metadata": {},
     "output_type": "execute_result"
    }
   ],
   "source": [
    "model = FoodModel(10)\n",
    "sum(p.numel() for p in model.parameters() if p.requires_grad)"
   ]
  },
  {
   "cell_type": "code",
   "execution_count": 5,
   "metadata": {},
   "outputs": [
    {
     "name": "stdout",
     "output_type": "stream",
     "text": [
      "Training trying_out for 10 epochs\n",
      "Training on cpu\n",
      "Step 0, Ellapsed 6.32 seconds, Train Loss: 1234, ETA: 4480.08 seconds\n",
      "Step 1, Ellapsed 12.65 seconds, Train Loss: 1234, ETA: 4477.00 seconds\n",
      "Step 2, Ellapsed 18.87 seconds, Train Loss: 1234, ETA: 4447.10 seconds\n",
      "Step 3, Ellapsed 25.03 seconds, Train Loss: 1234, ETA: 4417.63 seconds\n",
      "Step 4, Ellapsed 31.31 seconds, Train Loss: 1234, ETA: 4414.27 seconds\n"
     ]
    },
    {
     "ename": "KeyboardInterrupt",
     "evalue": "",
     "output_type": "error",
     "traceback": [
      "\u001b[0;31m---------------------------------------------------------------------------\u001b[0m",
      "\u001b[0;31mKeyboardInterrupt\u001b[0m                         Traceback (most recent call last)",
      "Cell \u001b[0;32mIn[5], line 17\u001b[0m\n\u001b[1;32m      1\u001b[0m settings \u001b[38;5;241m=\u001b[39m TrainSettings(\u001b[38;5;124m\"\u001b[39m\u001b[38;5;124mtrying_out\u001b[39m\u001b[38;5;124m\"\u001b[39m,\n\u001b[1;32m      2\u001b[0m                          model,\n\u001b[1;32m      3\u001b[0m                          dt_train,\n\u001b[0;32m   (...)\u001b[0m\n\u001b[1;32m     12\u001b[0m                          print_memory\u001b[38;5;241m=\u001b[39m\u001b[38;5;28;01mTrue\u001b[39;00m,\n\u001b[1;32m     13\u001b[0m                          batch_size\u001b[38;5;241m=\u001b[39m\u001b[38;5;241m128\u001b[39m)\n\u001b[1;32m     15\u001b[0m training \u001b[38;5;241m=\u001b[39m TrainingLoop(settings)\n\u001b[0;32m---> 17\u001b[0m \u001b[43mtraining\u001b[49m\u001b[38;5;241;43m.\u001b[39;49m\u001b[43mtrain\u001b[49m\u001b[43m(\u001b[49m\u001b[43m)\u001b[49m\n",
      "File \u001b[0;32m/media/filestorage/code/projects/food101/training_loop.py:33\u001b[0m, in \u001b[0;36mTrainingLoop.train\u001b[0;34m(self, epochs)\u001b[0m\n\u001b[1;32m     31\u001b[0m step \u001b[38;5;241m=\u001b[39m \u001b[38;5;241m0\u001b[39m\n\u001b[1;32m     32\u001b[0m \u001b[38;5;28;01mfor\u001b[39;00m imgs, labels \u001b[38;5;129;01min\u001b[39;00m \u001b[38;5;28mself\u001b[39m\u001b[38;5;241m.\u001b[39msettings\u001b[38;5;241m.\u001b[39mtrain_data:\n\u001b[0;32m---> 33\u001b[0m     \u001b[43mtime\u001b[49m\u001b[38;5;241;43m.\u001b[39;49m\u001b[43msleep\u001b[49m\u001b[43m(\u001b[49m\u001b[38;5;241;43m5\u001b[39;49m\u001b[43m)\u001b[49m\n\u001b[1;32m     34\u001b[0m     \u001b[38;5;28;01mif\u001b[39;00m (\u001b[38;5;28mself\u001b[39m\u001b[38;5;241m.\u001b[39msettings\u001b[38;5;241m.\u001b[39mprint_steps):\n\u001b[1;32m     35\u001b[0m         eta \u001b[38;5;241m=\u001b[39m time\u001b[38;5;241m.\u001b[39mtime() \u001b[38;5;241m-\u001b[39m start_time\n",
      "\u001b[0;31mKeyboardInterrupt\u001b[0m: "
     ]
    }
   ],
   "source": [
    "settings = TrainSettings(\"trying_out\",\n",
    "                         model,\n",
    "                         dt_train,\n",
    "                         dt_val,\n",
    "                         device=\"cpu\",\n",
    "                         lr=0.001,\n",
    "                         epochs=10,\n",
    "                         save_after_epoch=10,\n",
    "                         eval_after_epoch=1,\n",
    "                         save_path=constants.save_path_drive,\n",
    "                         print_steps=True,\n",
    "                         print_memory=True,\n",
    "                         batch_size=128)\n",
    "\n",
    "training = TrainingLoop(settings)\n",
    "\n",
    "training.train()"
   ]
  },
  {
   "cell_type": "code",
   "execution_count": null,
   "metadata": {},
   "outputs": [
    {
     "data": {
      "text/plain": [
       "(8000, 2000, 1000)"
      ]
     },
     "execution_count": 4,
     "metadata": {},
     "output_type": "execute_result"
    }
   ],
   "source": [
    "def show_image(image, label):\n",
    "    plt.figure()\n",
    "    plt.imshow(image.permute(1, 2, 0))\n",
    "    plt.title(f\"Label: {label}\")\n",
    "    \n",
    "show_image(dt_train[799][0],dt_train.get_class_label(dt_train[799][1]))\n",
    "show_image(dt_val[0][0],dt_val.get_class_label(dt_val[0][1]))"
   ]
  }
 ],
 "metadata": {
  "kernelspec": {
   "display_name": "myenv",
   "language": "python",
   "name": "python3"
  },
  "language_info": {
   "codemirror_mode": {
    "name": "ipython",
    "version": 3
   },
   "file_extension": ".py",
   "mimetype": "text/x-python",
   "name": "python",
   "nbconvert_exporter": "python",
   "pygments_lexer": "ipython3",
   "version": "3.10.15"
  }
 },
 "nbformat": 4,
 "nbformat_minor": 2
}
